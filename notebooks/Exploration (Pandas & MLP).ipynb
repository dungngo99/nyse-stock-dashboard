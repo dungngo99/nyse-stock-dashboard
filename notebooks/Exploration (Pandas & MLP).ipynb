{
 "cells": [
  {
   "cell_type": "markdown",
   "id": "36fa10fc",
   "metadata": {},
   "source": [
    "# Introduction\n",
    "This notebook will explore stock data of +30 companies listed in NYSE by loading data locally and drawing OHLC charts to demonstrate the open, high, low, and close price for a given period.<br>"
   ]
  },
  {
   "cell_type": "code",
   "execution_count": 1,
   "id": "4403bdc8",
   "metadata": {},
   "outputs": [],
   "source": [
    "import numpy as np\n",
    "import pandas as pd\n",
    "import matplotlib.pyplot as plt\n",
    "import os\n",
    "\n",
    "import glob\n",
    "from collections import defaultdict\n",
    "from datetime import datetime\n",
    "import mplfinance as mpf"
   ]
  },
  {
   "cell_type": "markdown",
   "id": "d5ab72fa",
   "metadata": {},
   "source": [
    "## Load local data"
   ]
  },
  {
   "cell_type": "code",
   "execution_count": 2,
   "id": "c4a26a7f",
   "metadata": {},
   "outputs": [],
   "source": [
    "# function to load local data given company name and file path\n",
    "def load_djia_by_company(company, path):\n",
    "    files = glob.glob(f\"{path}/*.csv\")\n",
    "    \n",
    "    df = None\n",
    "    for file in files:\n",
    "        if company.upper() in file:\n",
    "            df = pd.read_csv(file)\n",
    "    return df"
   ]
  },
  {
   "cell_type": "code",
   "execution_count": 3,
   "id": "ff399ef7",
   "metadata": {},
   "outputs": [
    {
     "data": {
      "text/html": [
       "<div>\n",
       "<style scoped>\n",
       "    .dataframe tbody tr th:only-of-type {\n",
       "        vertical-align: middle;\n",
       "    }\n",
       "\n",
       "    .dataframe tbody tr th {\n",
       "        vertical-align: top;\n",
       "    }\n",
       "\n",
       "    .dataframe thead th {\n",
       "        text-align: right;\n",
       "    }\n",
       "</style>\n",
       "<table border=\"1\" class=\"dataframe\">\n",
       "  <thead>\n",
       "    <tr style=\"text-align: right;\">\n",
       "      <th></th>\n",
       "      <th>Date</th>\n",
       "      <th>Open</th>\n",
       "      <th>High</th>\n",
       "      <th>Low</th>\n",
       "      <th>Close</th>\n",
       "      <th>Volume</th>\n",
       "      <th>Name</th>\n",
       "    </tr>\n",
       "  </thead>\n",
       "  <tbody>\n",
       "    <tr>\n",
       "      <th>0</th>\n",
       "      <td>2006-01-03</td>\n",
       "      <td>10.34</td>\n",
       "      <td>10.68</td>\n",
       "      <td>10.32</td>\n",
       "      <td>10.68</td>\n",
       "      <td>201853036</td>\n",
       "      <td>AAPL</td>\n",
       "    </tr>\n",
       "    <tr>\n",
       "      <th>1</th>\n",
       "      <td>2006-01-04</td>\n",
       "      <td>10.73</td>\n",
       "      <td>10.85</td>\n",
       "      <td>10.64</td>\n",
       "      <td>10.71</td>\n",
       "      <td>155225609</td>\n",
       "      <td>AAPL</td>\n",
       "    </tr>\n",
       "    <tr>\n",
       "      <th>2</th>\n",
       "      <td>2006-01-05</td>\n",
       "      <td>10.69</td>\n",
       "      <td>10.70</td>\n",
       "      <td>10.54</td>\n",
       "      <td>10.63</td>\n",
       "      <td>112396081</td>\n",
       "      <td>AAPL</td>\n",
       "    </tr>\n",
       "    <tr>\n",
       "      <th>3</th>\n",
       "      <td>2006-01-06</td>\n",
       "      <td>10.75</td>\n",
       "      <td>10.96</td>\n",
       "      <td>10.65</td>\n",
       "      <td>10.90</td>\n",
       "      <td>176139334</td>\n",
       "      <td>AAPL</td>\n",
       "    </tr>\n",
       "    <tr>\n",
       "      <th>4</th>\n",
       "      <td>2006-01-09</td>\n",
       "      <td>10.96</td>\n",
       "      <td>11.03</td>\n",
       "      <td>10.82</td>\n",
       "      <td>10.86</td>\n",
       "      <td>168861224</td>\n",
       "      <td>AAPL</td>\n",
       "    </tr>\n",
       "  </tbody>\n",
       "</table>\n",
       "</div>"
      ],
      "text/plain": [
       "         Date   Open   High    Low  Close     Volume  Name\n",
       "0  2006-01-03  10.34  10.68  10.32  10.68  201853036  AAPL\n",
       "1  2006-01-04  10.73  10.85  10.64  10.71  155225609  AAPL\n",
       "2  2006-01-05  10.69  10.70  10.54  10.63  112396081  AAPL\n",
       "3  2006-01-06  10.75  10.96  10.65  10.90  176139334  AAPL\n",
       "4  2006-01-09  10.96  11.03  10.82  10.86  168861224  AAPL"
      ]
     },
     "execution_count": 3,
     "metadata": {},
     "output_type": "execute_result"
    }
   ],
   "source": [
    "# Load AAPL stock dataset\n",
    "file_path = f\"{os.getcwd()}/../data/djia-30-stock-ts\"\n",
    "aapl = load_djia_by_company(\"AAPL\", file_path)\n",
    "aapl.head()"
   ]
  },
  {
   "cell_type": "code",
   "execution_count": 4,
   "id": "c7db04d0",
   "metadata": {},
   "outputs": [
    {
     "data": {
      "text/html": [
       "<div>\n",
       "<style scoped>\n",
       "    .dataframe tbody tr th:only-of-type {\n",
       "        vertical-align: middle;\n",
       "    }\n",
       "\n",
       "    .dataframe tbody tr th {\n",
       "        vertical-align: top;\n",
       "    }\n",
       "\n",
       "    .dataframe thead th {\n",
       "        text-align: right;\n",
       "    }\n",
       "</style>\n",
       "<table border=\"1\" class=\"dataframe\">\n",
       "  <thead>\n",
       "    <tr style=\"text-align: right;\">\n",
       "      <th></th>\n",
       "      <th>Date</th>\n",
       "      <th>Open</th>\n",
       "      <th>High</th>\n",
       "      <th>Low</th>\n",
       "      <th>Close</th>\n",
       "      <th>Volume</th>\n",
       "      <th>Name</th>\n",
       "    </tr>\n",
       "  </thead>\n",
       "  <tbody>\n",
       "    <tr>\n",
       "      <th>0</th>\n",
       "      <td>2006-01-03</td>\n",
       "      <td>47.47</td>\n",
       "      <td>47.85</td>\n",
       "      <td>46.25</td>\n",
       "      <td>47.58</td>\n",
       "      <td>7582127</td>\n",
       "      <td>AMZN</td>\n",
       "    </tr>\n",
       "    <tr>\n",
       "      <th>1</th>\n",
       "      <td>2006-01-04</td>\n",
       "      <td>47.48</td>\n",
       "      <td>47.73</td>\n",
       "      <td>46.69</td>\n",
       "      <td>47.25</td>\n",
       "      <td>7440914</td>\n",
       "      <td>AMZN</td>\n",
       "    </tr>\n",
       "    <tr>\n",
       "      <th>2</th>\n",
       "      <td>2006-01-05</td>\n",
       "      <td>47.16</td>\n",
       "      <td>48.20</td>\n",
       "      <td>47.11</td>\n",
       "      <td>47.65</td>\n",
       "      <td>5417258</td>\n",
       "      <td>AMZN</td>\n",
       "    </tr>\n",
       "    <tr>\n",
       "      <th>3</th>\n",
       "      <td>2006-01-06</td>\n",
       "      <td>47.97</td>\n",
       "      <td>48.58</td>\n",
       "      <td>47.32</td>\n",
       "      <td>47.87</td>\n",
       "      <td>6154285</td>\n",
       "      <td>AMZN</td>\n",
       "    </tr>\n",
       "    <tr>\n",
       "      <th>4</th>\n",
       "      <td>2006-01-09</td>\n",
       "      <td>46.55</td>\n",
       "      <td>47.10</td>\n",
       "      <td>46.40</td>\n",
       "      <td>47.08</td>\n",
       "      <td>8945056</td>\n",
       "      <td>AMZN</td>\n",
       "    </tr>\n",
       "  </tbody>\n",
       "</table>\n",
       "</div>"
      ],
      "text/plain": [
       "         Date   Open   High    Low  Close   Volume  Name\n",
       "0  2006-01-03  47.47  47.85  46.25  47.58  7582127  AMZN\n",
       "1  2006-01-04  47.48  47.73  46.69  47.25  7440914  AMZN\n",
       "2  2006-01-05  47.16  48.20  47.11  47.65  5417258  AMZN\n",
       "3  2006-01-06  47.97  48.58  47.32  47.87  6154285  AMZN\n",
       "4  2006-01-09  46.55  47.10  46.40  47.08  8945056  AMZN"
      ]
     },
     "execution_count": 4,
     "metadata": {},
     "output_type": "execute_result"
    }
   ],
   "source": [
    "# Load AMZN stock dataset\n",
    "amzn = load_djia_by_company(\"AMZN\", file_path)\n",
    "amzn.head()"
   ]
  },
  {
   "cell_type": "markdown",
   "id": "c4f096ee",
   "metadata": {},
   "source": [
    "## Explore AAPL data"
   ]
  },
  {
   "cell_type": "code",
   "execution_count": 5,
   "id": "87375c57",
   "metadata": {},
   "outputs": [
    {
     "data": {
      "text/html": [
       "<div>\n",
       "<style scoped>\n",
       "    .dataframe tbody tr th:only-of-type {\n",
       "        vertical-align: middle;\n",
       "    }\n",
       "\n",
       "    .dataframe tbody tr th {\n",
       "        vertical-align: top;\n",
       "    }\n",
       "\n",
       "    .dataframe thead th {\n",
       "        text-align: right;\n",
       "    }\n",
       "</style>\n",
       "<table border=\"1\" class=\"dataframe\">\n",
       "  <thead>\n",
       "    <tr style=\"text-align: right;\">\n",
       "      <th></th>\n",
       "      <th>Open</th>\n",
       "      <th>High</th>\n",
       "      <th>Low</th>\n",
       "      <th>Close</th>\n",
       "      <th>Volume</th>\n",
       "    </tr>\n",
       "  </thead>\n",
       "  <tbody>\n",
       "    <tr>\n",
       "      <th>count</th>\n",
       "      <td>3019.000000</td>\n",
       "      <td>3019.000000</td>\n",
       "      <td>3019.000000</td>\n",
       "      <td>3019.000000</td>\n",
       "      <td>3.019000e+03</td>\n",
       "    </tr>\n",
       "    <tr>\n",
       "      <th>mean</th>\n",
       "      <td>64.673309</td>\n",
       "      <td>65.256833</td>\n",
       "      <td>64.033445</td>\n",
       "      <td>64.662892</td>\n",
       "      <td>1.311457e+08</td>\n",
       "    </tr>\n",
       "    <tr>\n",
       "      <th>std</th>\n",
       "      <td>44.524927</td>\n",
       "      <td>44.811772</td>\n",
       "      <td>44.230829</td>\n",
       "      <td>44.536448</td>\n",
       "      <td>1.018560e+08</td>\n",
       "    </tr>\n",
       "    <tr>\n",
       "      <th>min</th>\n",
       "      <td>7.390000</td>\n",
       "      <td>7.560000</td>\n",
       "      <td>7.170000</td>\n",
       "      <td>7.240000</td>\n",
       "      <td>1.147592e+07</td>\n",
       "    </tr>\n",
       "    <tr>\n",
       "      <th>25%</th>\n",
       "      <td>23.425000</td>\n",
       "      <td>23.805000</td>\n",
       "      <td>23.015000</td>\n",
       "      <td>23.420000</td>\n",
       "      <td>5.292889e+07</td>\n",
       "    </tr>\n",
       "    <tr>\n",
       "      <th>50%</th>\n",
       "      <td>57.860000</td>\n",
       "      <td>58.460000</td>\n",
       "      <td>57.320000</td>\n",
       "      <td>57.920000</td>\n",
       "      <td>1.066271e+08</td>\n",
       "    </tr>\n",
       "    <tr>\n",
       "      <th>75%</th>\n",
       "      <td>99.165000</td>\n",
       "      <td>100.275000</td>\n",
       "      <td>98.385000</td>\n",
       "      <td>99.480000</td>\n",
       "      <td>1.798977e+08</td>\n",
       "    </tr>\n",
       "    <tr>\n",
       "      <th>max</th>\n",
       "      <td>175.110000</td>\n",
       "      <td>177.200000</td>\n",
       "      <td>174.860000</td>\n",
       "      <td>176.420000</td>\n",
       "      <td>8.432640e+08</td>\n",
       "    </tr>\n",
       "  </tbody>\n",
       "</table>\n",
       "</div>"
      ],
      "text/plain": [
       "              Open         High          Low        Close        Volume\n",
       "count  3019.000000  3019.000000  3019.000000  3019.000000  3.019000e+03\n",
       "mean     64.673309    65.256833    64.033445    64.662892  1.311457e+08\n",
       "std      44.524927    44.811772    44.230829    44.536448  1.018560e+08\n",
       "min       7.390000     7.560000     7.170000     7.240000  1.147592e+07\n",
       "25%      23.425000    23.805000    23.015000    23.420000  5.292889e+07\n",
       "50%      57.860000    58.460000    57.320000    57.920000  1.066271e+08\n",
       "75%      99.165000   100.275000    98.385000    99.480000  1.798977e+08\n",
       "max     175.110000   177.200000   174.860000   176.420000  8.432640e+08"
      ]
     },
     "execution_count": 5,
     "metadata": {},
     "output_type": "execute_result"
    }
   ],
   "source": [
    "# View statistics of AAPL data\n",
    "aapl.describe()"
   ]
  },
  {
   "cell_type": "code",
   "execution_count": 6,
   "id": "a859d093",
   "metadata": {},
   "outputs": [
    {
     "name": "stdout",
     "output_type": "stream",
     "text": [
      "<class 'pandas.core.frame.DataFrame'>\n",
      "RangeIndex: 3019 entries, 0 to 3018\n",
      "Data columns (total 7 columns):\n",
      " #   Column  Non-Null Count  Dtype  \n",
      "---  ------  --------------  -----  \n",
      " 0   Date    3019 non-null   object \n",
      " 1   Open    3019 non-null   float64\n",
      " 2   High    3019 non-null   float64\n",
      " 3   Low     3019 non-null   float64\n",
      " 4   Close   3019 non-null   float64\n",
      " 5   Volume  3019 non-null   int64  \n",
      " 6   Name    3019 non-null   object \n",
      "dtypes: float64(4), int64(1), object(2)\n",
      "memory usage: 165.2+ KB\n"
     ]
    }
   ],
   "source": [
    "# View APPL table's schema\n",
    "aapl.info()"
   ]
  },
  {
   "cell_type": "code",
   "execution_count": 7,
   "id": "d27b2d5a",
   "metadata": {},
   "outputs": [
    {
     "data": {
      "text/html": [
       "<div>\n",
       "<style scoped>\n",
       "    .dataframe tbody tr th:only-of-type {\n",
       "        vertical-align: middle;\n",
       "    }\n",
       "\n",
       "    .dataframe tbody tr th {\n",
       "        vertical-align: top;\n",
       "    }\n",
       "\n",
       "    .dataframe thead th {\n",
       "        text-align: right;\n",
       "    }\n",
       "</style>\n",
       "<table border=\"1\" class=\"dataframe\">\n",
       "  <thead>\n",
       "    <tr style=\"text-align: right;\">\n",
       "      <th></th>\n",
       "      <th>Date</th>\n",
       "      <th>Open</th>\n",
       "      <th>High</th>\n",
       "      <th>Low</th>\n",
       "      <th>Close</th>\n",
       "      <th>Volume</th>\n",
       "      <th>Name</th>\n",
       "      <th>Datetime</th>\n",
       "    </tr>\n",
       "  </thead>\n",
       "  <tbody>\n",
       "    <tr>\n",
       "      <th>0</th>\n",
       "      <td>2006-01-03</td>\n",
       "      <td>10.34</td>\n",
       "      <td>10.68</td>\n",
       "      <td>10.32</td>\n",
       "      <td>10.68</td>\n",
       "      <td>201853036</td>\n",
       "      <td>AAPL</td>\n",
       "      <td>2006-01-03</td>\n",
       "    </tr>\n",
       "    <tr>\n",
       "      <th>1</th>\n",
       "      <td>2006-01-04</td>\n",
       "      <td>10.73</td>\n",
       "      <td>10.85</td>\n",
       "      <td>10.64</td>\n",
       "      <td>10.71</td>\n",
       "      <td>155225609</td>\n",
       "      <td>AAPL</td>\n",
       "      <td>2006-01-04</td>\n",
       "    </tr>\n",
       "    <tr>\n",
       "      <th>2</th>\n",
       "      <td>2006-01-05</td>\n",
       "      <td>10.69</td>\n",
       "      <td>10.70</td>\n",
       "      <td>10.54</td>\n",
       "      <td>10.63</td>\n",
       "      <td>112396081</td>\n",
       "      <td>AAPL</td>\n",
       "      <td>2006-01-05</td>\n",
       "    </tr>\n",
       "    <tr>\n",
       "      <th>3</th>\n",
       "      <td>2006-01-06</td>\n",
       "      <td>10.75</td>\n",
       "      <td>10.96</td>\n",
       "      <td>10.65</td>\n",
       "      <td>10.90</td>\n",
       "      <td>176139334</td>\n",
       "      <td>AAPL</td>\n",
       "      <td>2006-01-06</td>\n",
       "    </tr>\n",
       "    <tr>\n",
       "      <th>4</th>\n",
       "      <td>2006-01-09</td>\n",
       "      <td>10.96</td>\n",
       "      <td>11.03</td>\n",
       "      <td>10.82</td>\n",
       "      <td>10.86</td>\n",
       "      <td>168861224</td>\n",
       "      <td>AAPL</td>\n",
       "      <td>2006-01-09</td>\n",
       "    </tr>\n",
       "  </tbody>\n",
       "</table>\n",
       "</div>"
      ],
      "text/plain": [
       "         Date   Open   High    Low  Close     Volume  Name   Datetime\n",
       "0  2006-01-03  10.34  10.68  10.32  10.68  201853036  AAPL 2006-01-03\n",
       "1  2006-01-04  10.73  10.85  10.64  10.71  155225609  AAPL 2006-01-04\n",
       "2  2006-01-05  10.69  10.70  10.54  10.63  112396081  AAPL 2006-01-05\n",
       "3  2006-01-06  10.75  10.96  10.65  10.90  176139334  AAPL 2006-01-06\n",
       "4  2006-01-09  10.96  11.03  10.82  10.86  168861224  AAPL 2006-01-09"
      ]
     },
     "execution_count": 7,
     "metadata": {},
     "output_type": "execute_result"
    }
   ],
   "source": [
    "# Convert column 'Date' in string to datetime\n",
    "aapl['Datetime'] = pd.to_datetime(aapl['Date'], format='%Y-%m-%d')\n",
    "aapl.head()"
   ]
  },
  {
   "cell_type": "code",
   "execution_count": 8,
   "id": "7f161d44",
   "metadata": {},
   "outputs": [
    {
     "data": {
      "text/plain": [
       "(Timestamp('2006-01-03 00:00:00'), Timestamp('2017-12-29 00:00:00'))"
      ]
     },
     "execution_count": 8,
     "metadata": {},
     "output_type": "execute_result"
    }
   ],
   "source": [
    "# Find the date range (min and max)\n",
    "minDate, maxDate = aapl['Datetime'].min(), aapl['Datetime'].max()\n",
    "minDate, maxDate"
   ]
  },
  {
   "cell_type": "code",
   "execution_count": 9,
   "id": "fb7af2ec",
   "metadata": {},
   "outputs": [
    {
     "data": {
      "image/png": "[encoded data removed]",
      "text/plain": [
       "<Figure size 1008x576 with 5 Axes>"
      ]
     },
     "metadata": {
      "needs_background": "light"
     },
     "output_type": "display_data"
    }
   ],
   "source": [
    "# Create a boxplot for each category, including Open, High, Low, Close and Volumne\n",
    "categories = [\"Open\", \"High\", \"Low\", \"Close\", \"Volume\"]\n",
    "fig = plt.figure(figsize=(14, 8))\n",
    "\n",
    "for i, category in enumerate(categories):\n",
    "    plt.subplot(2, 3, i+1)\n",
    "    aapl.boxplot(column=category)\n",
    "    plt.ylabel(\"Amount (billion $USD)\")"
   ]
  },
  {
   "cell_type": "markdown",
   "id": "c9444fa7",
   "metadata": {},
   "source": [
    "### Analysis\n",
    "There are 3019 entries for AAPL stocks, spanning from Jan 3rd, 2006 to Dec 29th, 2017 in a daily interval. We can see that Open, High, Low and Close prices are skewed to the right and pretty consistent to each other throughout the timeframe. Since we ignore the datetime and perform statistics on the entire timeframe, the details may be averaged out and it is hard to see. It is better to analyze on a smaller time interval."
   ]
  },
  {
   "cell_type": "markdown",
   "id": "1e36e9ad",
   "metadata": {},
   "source": [
    "## Graph the price progression for AAPL stock"
   ]
  },
  {
   "cell_type": "code",
   "execution_count": 10,
   "id": "d8d552b5",
   "metadata": {},
   "outputs": [],
   "source": [
    "# function to display price distribution using box plot with specified interval and column\n",
    "def price_distribution(df, column, interval):\n",
    "    bucket = defaultdict(list)\n",
    "    gb = df.groupby(df['Datetime'].map(lambda x: x.__getattribute__(interval))).groups\n",
    "\n",
    "    i, maxL = 0, np.max([len(value) for value in gb.values()])\n",
    "    for key in gb.keys():\n",
    "        lst, L = gb[key], len(gb[key])\n",
    "        for j in range(maxL):\n",
    "            if j >= L: bucket[key].append(None)\n",
    "            else: \n",
    "                rowId = lst[j]\n",
    "                bucket[key].append(int(df.loc[rowId, column]))\n",
    "    \n",
    "    price_dist = pd.DataFrame(bucket, columns=bucket.keys())\n",
    "    \n",
    "    price_dist.boxplot(figsize=(15, 7))\n",
    "    plt.title(f\"{column}'s price distribution over each year'\")\n",
    "    plt.xlabel(\"Year\"); plt.ylabel(\"Amount (billion $dollar)\")"
   ]
  },
  {
   "cell_type": "code",
   "execution_count": 11,
   "id": "cd88768b",
   "metadata": {},
   "outputs": [
    {
     "data": {
      "image/png": "[encoded data removed]",
      "text/plain": [
       "<Figure size 1080x504 with 1 Axes>"
      ]
     },
     "metadata": {
      "needs_background": "light"
     },
     "output_type": "display_data"
    }
   ],
   "source": [
    "price_distribution(aapl, \"Open\", 'year')"
   ]
  },
  {
   "cell_type": "code",
   "execution_count": 12,
   "id": "d7692b6c",
   "metadata": {},
   "outputs": [
    {
     "data": {
      "image/png": "[encoded data removed]",
      "text/plain": [
       "<Figure size 1080x504 with 1 Axes>"
      ]
     },
     "metadata": {
      "needs_background": "light"
     },
     "output_type": "display_data"
    }
   ],
   "source": [
    "price_distribution(aapl, \"Close\", 'year')"
   ]
  },
  {
   "cell_type": "code",
   "execution_count": 13,
   "id": "e5893033",
   "metadata": {},
   "outputs": [
    {
     "data": {
      "image/png": "[encoded data removed]",
      "text/plain": [
       "<Figure size 1080x504 with 1 Axes>"
      ]
     },
     "metadata": {
      "needs_background": "light"
     },
     "output_type": "display_data"
    }
   ],
   "source": [
    "price_distribution(aapl, \"Volume\", 'year')"
   ]
  },
  {
   "cell_type": "markdown",
   "id": "5a4a5f08",
   "metadata": {},
   "source": [
    "### Analysis\n",
    "We can see a clear general positive progression in columns open, close, high, low, except for Volume column."
   ]
  },
  {
   "cell_type": "markdown",
   "id": "c7b57551",
   "metadata": {},
   "source": [
    "## Graph the OLHC chart for AAPL stock\n",
    "OHLC is one of the most popular financial analysis tools, typically used to illustrate stock prices over time.<br>\n",
    "The chart is composed of a series of vertical lines that pack 4 critical values (min, max, opening, and closing values). They are usually measured in hours, days, or weeks. Below is show a candlestick line (another representation of OHLC chart) from Investopia.\n",
    "<img src=\"../images/OHLC-chart.png\" width=\"500\" height=\"500\"></img>"
   ]
  },
  {
   "cell_type": "code",
   "execution_count": 14,
   "id": "e76dec65",
   "metadata": {},
   "outputs": [
    {
     "data": {
      "text/html": [
       "<div>\n",
       "<style scoped>\n",
       "    .dataframe tbody tr th:only-of-type {\n",
       "        vertical-align: middle;\n",
       "    }\n",
       "\n",
       "    .dataframe tbody tr th {\n",
       "        vertical-align: top;\n",
       "    }\n",
       "\n",
       "    .dataframe thead th {\n",
       "        text-align: right;\n",
       "    }\n",
       "</style>\n",
       "<table border=\"1\" class=\"dataframe\">\n",
       "  <thead>\n",
       "    <tr style=\"text-align: right;\">\n",
       "      <th></th>\n",
       "      <th>Date</th>\n",
       "      <th>Open</th>\n",
       "      <th>High</th>\n",
       "      <th>Low</th>\n",
       "      <th>Close</th>\n",
       "      <th>Volume</th>\n",
       "      <th>Name</th>\n",
       "      <th>Datetime</th>\n",
       "    </tr>\n",
       "  </thead>\n",
       "  <tbody>\n",
       "    <tr>\n",
       "      <th>0</th>\n",
       "      <td>2017-01-03</td>\n",
       "      <td>115.80</td>\n",
       "      <td>116.33</td>\n",
       "      <td>114.76</td>\n",
       "      <td>116.15</td>\n",
       "      <td>28781865</td>\n",
       "      <td>AAPL</td>\n",
       "      <td>2017-01-03</td>\n",
       "    </tr>\n",
       "    <tr>\n",
       "      <th>1</th>\n",
       "      <td>2017-01-04</td>\n",
       "      <td>115.85</td>\n",
       "      <td>116.51</td>\n",
       "      <td>115.75</td>\n",
       "      <td>116.02</td>\n",
       "      <td>21118116</td>\n",
       "      <td>AAPL</td>\n",
       "      <td>2017-01-04</td>\n",
       "    </tr>\n",
       "    <tr>\n",
       "      <th>2</th>\n",
       "      <td>2017-01-05</td>\n",
       "      <td>115.92</td>\n",
       "      <td>116.86</td>\n",
       "      <td>115.81</td>\n",
       "      <td>116.61</td>\n",
       "      <td>22193587</td>\n",
       "      <td>AAPL</td>\n",
       "      <td>2017-01-05</td>\n",
       "    </tr>\n",
       "    <tr>\n",
       "      <th>3</th>\n",
       "      <td>2017-01-06</td>\n",
       "      <td>116.78</td>\n",
       "      <td>118.16</td>\n",
       "      <td>116.47</td>\n",
       "      <td>117.91</td>\n",
       "      <td>31751900</td>\n",
       "      <td>AAPL</td>\n",
       "      <td>2017-01-06</td>\n",
       "    </tr>\n",
       "    <tr>\n",
       "      <th>4</th>\n",
       "      <td>2017-01-09</td>\n",
       "      <td>117.95</td>\n",
       "      <td>119.43</td>\n",
       "      <td>117.94</td>\n",
       "      <td>118.99</td>\n",
       "      <td>33561948</td>\n",
       "      <td>AAPL</td>\n",
       "      <td>2017-01-09</td>\n",
       "    </tr>\n",
       "  </tbody>\n",
       "</table>\n",
       "</div>"
      ],
      "text/plain": [
       "         Date    Open    High     Low   Close    Volume  Name   Datetime\n",
       "0  2017-01-03  115.80  116.33  114.76  116.15  28781865  AAPL 2017-01-03\n",
       "1  2017-01-04  115.85  116.51  115.75  116.02  21118116  AAPL 2017-01-04\n",
       "2  2017-01-05  115.92  116.86  115.81  116.61  22193587  AAPL 2017-01-05\n",
       "3  2017-01-06  116.78  118.16  116.47  117.91  31751900  AAPL 2017-01-06\n",
       "4  2017-01-09  117.95  119.43  117.94  118.99  33561948  AAPL 2017-01-09"
      ]
     },
     "execution_count": 14,
     "metadata": {},
     "output_type": "execute_result"
    }
   ],
   "source": [
    "# extract data\n",
    "aapl_2017 = aapl[(aapl['Datetime'] >= datetime(2017,1,1)) & (aapl['Datetime'] < datetime(2017,2,1))]\n",
    "aapl_2017 = aapl_2017.reset_index().drop(columns=['index'])\n",
    "aapl_2017.head()"
   ]
  },
  {
   "cell_type": "code",
   "execution_count": 15,
   "id": "fe77a025",
   "metadata": {},
   "outputs": [
    {
     "name": "stderr",
     "output_type": "stream",
     "text": [
      "<ipython-input-15-626c9e06058c>:20: RuntimeWarning: Mean of empty slice.\n",
      "  mv.append(aapl_2017.iloc[i-3:i, 1:5].to_numpy().flatten().mean())\n",
      "/Users/ngodylan/opt/anaconda3/lib/python3.8/site-packages/numpy/core/_methods.py:170: RuntimeWarning: invalid value encountered in double_scalars\n",
      "  ret = ret.dtype.type(ret / rcount)\n"
     ]
    },
    {
     "data": {
      "text/plain": [
       "<BarContainer object of 20 artists>"
      ]
     },
     "execution_count": 15,
     "metadata": {},
     "output_type": "execute_result"
    },
    {
     "data": {
      "image/png": "[encoded data removed]",
      "text/plain": [
       "<Figure size 1224x576 with 2 Axes>"
      ]
     },
     "metadata": {
      "needs_background": "light"
     },
     "output_type": "display_data"
    }
   ],
   "source": [
    "#  draw the vertical lines\n",
    "x = np.arange(0, len(aapl_2017))\n",
    "fig, (ax1, ax2) = plt.subplots(2, figsize=(17, 8), gridspec_kw={'height_ratios': [4,1]})\n",
    "\n",
    "for i, val in aapl_2017.iterrows():\n",
    "    color = \"#2CA453\" if val['Close'] >= val['Open'] else \"#F04730\"\n",
    "    # high/low lines\n",
    "    ax1.plot([x[i], x[i]], [val['Low'], val['High']], color=color)\n",
    "    \n",
    "    # open marker (to the left)\n",
    "    ax1.plot([x[i], x[i]-0.1], [val['Open'], val['Open']], color=color)\n",
    "    \n",
    "    # close marker (to the right)\n",
    "    ax1.plot([x[i], x[i]+0.1], [val['Close'], val['Close']], color=color)\n",
    "    \n",
    "# plot the moving average\n",
    "offset = 3 # 3 days\n",
    "mv = []\n",
    "for i in range(offset-1, len(aapl_2017)):\n",
    "    mv.append(aapl_2017.iloc[i-3:i, 1:5].to_numpy().flatten().mean())\n",
    "ax1.plot(x[offset-1:], mv, color='black', lw=1)\n",
    "    \n",
    "# ticks top plot\n",
    "ax2.set_xticks(x[::3])\n",
    "ax2.set_xticklabels(aapl_2017['Datetime'].dt.date[::3])\n",
    "ax1.set_xticks(x, minor=True)\n",
    "\n",
    "# labels\n",
    "ax1.set_ylabel(\"USD\")\n",
    "ax2.set_ylabel(\"Volume\")\n",
    "\n",
    "# grid\n",
    "ax1.xaxis.grid(color='black', linestyle='dashed', which='both', alpha=0.1)\n",
    "ax2.set_axisbelow(True)\n",
    "ax2.yaxis.grid(color='black', linestyle='dashed', which='both', alpha=0.1)\n",
    "\n",
    "# remove spines\n",
    "ax1.spines['right'].set_visible(False)\n",
    "ax1.spines['top'].set_visible(False)\n",
    "\n",
    "# title\n",
    "ax1.set_title('Apple Stock Price', loc='left', fontsize=20)\n",
    "plt.subplots_adjust(wspace=0, hspace=0)\n",
    "\n",
    "# plot volume\n",
    "ax2.bar(x, aapl_2017['Volume'], color='lightgrey')"
   ]
  },
  {
   "cell_type": "markdown",
   "id": "19233646",
   "metadata": {},
   "source": [
    "### Analysis\n",
    "In this example, we will draw a sample OHLC charts in Jan, 2017 with daily interval. "
   ]
  },
  {
   "cell_type": "code",
   "execution_count": null,
   "id": "893d1f2c",
   "metadata": {},
   "outputs": [],
   "source": []
  }
 ],
 "metadata": {
  "kernelspec": {
   "display_name": "Python 3",
   "language": "python",
   "name": "python3"
  },
  "language_info": {
   "codemirror_mode": {
    "name": "ipython",
    "version": 3
   },
   "file_extension": ".py",
   "mimetype": "text/x-python",
   "name": "python",
   "nbconvert_exporter": "python",
   "pygments_lexer": "ipython3",
   "version": "3.8.8"
  }
 },
 "nbformat": 4,
 "nbformat_minor": 5
}
