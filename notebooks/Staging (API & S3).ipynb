{
 "cells": [
  {
   "cell_type": "markdown",
   "id": "50df7f4e",
   "metadata": {},
   "source": [
    "# Introduction\n",
    "This notebook will fetch data from an external API, process them, and load them to S3 bucket as a staging area."
   ]
  },
  {
   "cell_type": "code",
   "execution_count": 1,
   "id": "2dddfd3c",
   "metadata": {},
   "outputs": [],
   "source": [
    "import requests\n",
    "import pandas as pd\n",
    "from datetime import datetime\n",
    "import json\n",
    "import configparser\n",
    "import boto3\n",
    "import os"
   ]
  },
  {
   "cell_type": "code",
   "execution_count": 3,
   "id": "6cad1ee8",
   "metadata": {},
   "outputs": [],
   "source": [
    "config = configparser.ConfigParser()\n",
    "config.read(\"../config.cfg\")\n",
    "\n",
    "# retrieve access key and secret key\n",
    "aws_access_key_id = config['AWS']['aws_access_key_id']\n",
    "aws_secret_access_key = config['AWS']['aws_secret_access_key']"
   ]
  },
  {
   "cell_type": "markdown",
   "id": "7ef03089",
   "metadata": {},
   "source": [
    "## Fetch quick data from RapidAPI"
   ]
  },
  {
   "cell_type": "code",
   "execution_count": 4,
   "id": "7f0fabb3",
   "metadata": {},
   "outputs": [],
   "source": [
    "def get_stock_data(symbol, rangeData = \"1mo\", interval = \"1h\"):\n",
    "    base_url = \"https://apidojo-yahoo-finance-v1.p.rapidapi.com/market/get-charts\"\n",
    "    querystring = {\n",
    "        \"region\":\"US\", \n",
    "        \"lang\":\"en\", \n",
    "        \"symbol\": symbol, \n",
    "        \"range\": rangeData, \n",
    "        \"interval\": interval\n",
    "    }\n",
    "    headers = {\n",
    "        'x-rapidapi-host': config[\"RapidAPI\"]['x-rapidapi-host'],\n",
    "        'x-rapidapi-key': config['RapidAPI']['x-rapidapi-key'],\n",
    "        'Content-Type': \"application/json\"\n",
    "    }\n",
    "    response = requests.request(\"GET\", base_url, headers=headers, params=querystring)\n",
    "    if response.ok:\n",
    "        data = json.loads(response.content)\n",
    "        return data['chart']['result'][0]\n",
    "    return None"
   ]
  },
  {
   "cell_type": "code",
   "execution_count": 5,
   "id": "75d81e5c",
   "metadata": {},
   "outputs": [],
   "source": [
    "response = get_stock_data(\"AAPL\")\n",
    "response"
   ]
  },
  {
   "cell_type": "markdown",
   "id": "a87567c4",
   "metadata": {},
   "source": [
    "## Transform raw json data to Dataframes"
   ]
  },
  {
   "cell_type": "code",
   "execution_count": 7,
   "id": "d1b64bb2",
   "metadata": {},
   "outputs": [],
   "source": [
    "metadata = response['meta']\n",
    "timestamps = response['timestamp']\n",
    "indicators = response['indicators']['quote'][0]"
   ]
  },
  {
   "cell_type": "code",
   "execution_count": 14,
   "id": "576b2221",
   "metadata": {},
   "outputs": [],
   "source": [
    "table = {\n",
    "    \"Timestamps\": timestamps, \n",
    "    \"Volume\": indicators['volume'], \n",
    "    \"Low\": indicators[\"low\"],\n",
    "    \"Open\": indicators[\"open\"], \n",
    "    \"High\": indicators[\"high\"], \n",
    "    \"Close\": indicators[\"close\"]\n",
    "}\n",
    "df_indicators = pd.DataFrame(table)\n",
    "df_indicators['Datetime'] = (df_indicators['Timestamps']\n",
    "                             .apply(lambda x: datetime.fromtimestamp(int(x)).strftime(\"%Y-%m-%d %H:%M:%S\")))\n",
    "df_indicators['symbol'] = metadata['symbol']\n",
    "df_indicators.head()"
   ]
  },
  {
   "cell_type": "code",
   "execution_count": 17,
   "id": "6d1d83f4",
   "metadata": {},
   "outputs": [],
   "source": [
    "def get_trading_period(trade_period):\n",
    "    trading_periods = set([])\n",
    "    for period in trade_period:\n",
    "        start = datetime.fromtimestamp(int(period[0]['start'])).strftime(\"%H:%M:%S\")\n",
    "        end = datetime.fromtimestamp(int(period[0]['end'])).strftime(\"%H:%M:%S\")\n",
    "        date = f\"{start} - {end}\"\n",
    "        trading_periods.add(date)\n",
    "    return list(trading_periods)\n",
    "\n",
    "impt_metadata = {\n",
    "    \"currency\": metadata['currency'],\n",
    "    \"symbol\": metadata['symbol'],\n",
    "    \"instrumentType\": metadata['instrumentType'],\n",
    "    \"firstTradeDate\": datetime.fromtimestamp(metadata['firstTradeDate']).strftime(\"%Y-%m-%d %H:%M:%S\"),\n",
    "    \"exchangeTimezoneName\": metadata[\"exchangeTimezoneName\"],\n",
    "    'timezone': metadata['timezone'],\n",
    "    'trade_period': get_trading_period(metadata['tradingPeriods']),\n",
    "    'range': metadata['range'],\n",
    "    'interval': metadata['dataGranularity'],\n",
    "    'start_date': df_indicators['Timestamps'].min()\n",
    "}\n",
    "\n",
    "df_meta = pd.DataFrame(impt_metadata)\n",
    "df_meta.head()"
   ]
  },
  {
   "cell_type": "markdown",
   "id": "45f15eb2",
   "metadata": {},
   "source": [
    "## Upload CSV files to S3 bucket"
   ]
  },
  {
   "cell_type": "code",
   "execution_count": 10,
   "id": "ec914afc",
   "metadata": {},
   "outputs": [],
   "source": [
    "# instantiate s3 objects\n",
    "s3 = boto3.resource(\"s3\", \n",
    "                    region_name = 'us-west-2', \n",
    "                    aws_access_key_id = aws_access_key_id,\n",
    "                    aws_secret_access_key = aws_secret_access_key\n",
    "                   )\n",
    "\n",
    "# function to upload local file object to S3 bucket\n",
    "def upload_object(s3, local_path, tag, obj, bucket, keys, ext=\"csv\"):\n",
    "    file_name = str(keys['start_date']) + f\".{ext}\"\n",
    "    directory = os.path.join(local_path, keys['symbol'], tag, keys['range'], keys['interval'])\n",
    "    file_path = os.path.join(directory, file_name)\n",
    "    \n",
    "    # upload file locally\n",
    "    if ext == \"csv\":\n",
    "        if not os.path.exists(directory): \n",
    "            os.makedirs(directory)\n",
    "        obj.to_csv(file_path, header=False, index=False)\n",
    "    elif ext == \"json\":\n",
    "        with open(file_path, 'w') as file:\n",
    "            json.dump(obj, file)\n",
    "    else:\n",
    "        print(\"Invalid file extension\")\n",
    "        return\n",
    "    \n",
    "    # upload file to s3\n",
    "    key = os.path.join(keys['symbol'], tag, keys['range'], keys['interval'], file_name)\n",
    "    try:\n",
    "        s3.Bucket(bucket).upload_file(file_path, key)\n",
    "        print(f\"Successfully uploaded an object @ {local_path} to S3 @ s3://{bucket}/{key}\")\n",
    "    except Exception as e:\n",
    "        print(e)\n",
    "        \n",
    "    return os.path.join(keys['symbol'], tag, keys['range'], keys['interval'])"
   ]
  },
  {
   "cell_type": "code",
   "execution_count": 11,
   "id": "c52b8b40",
   "metadata": {},
   "outputs": [
    {
     "name": "stdout",
     "output_type": "stream",
     "text": [
      "Successfully uploaded an object @ ../data/s3 to S3 @ s3://nyse-stock-data-dngo/AAPL/metadata/1mo/5m/1635256800.csv\n",
      "Successfully uploaded an object @ ../data/s3 to S3 @ s3://nyse-stock-data-dngo/AAPL/indicators/1mo/5m/1635256800.csv\n"
     ]
    }
   ],
   "source": [
    "# retrieve bucket_name from config object\n",
    "bucket_name = config['S3']['bucket_name']\n",
    "\n",
    "keys = dict(df_meta.iloc[0, :])\n",
    "\n",
    "# upload metadata dataframe\n",
    "key_path_meta = upload_object(\n",
    "    s3 = s3,\n",
    "    local_path = \"../data/s3\",\n",
    "    tag = 'metadata',\n",
    "    obj = df_meta,\n",
    "    bucket = bucket_name,\n",
    "    keys = keys,\n",
    "    ext = \"csv\"\n",
    ")    \n",
    "\n",
    "# upload indicators dataframe\n",
    "key_path_indicators = upload_object(\n",
    "    s3 = s3,\n",
    "    local_path = \"../data/s3\",\n",
    "    tag = 'indicators',\n",
    "    obj = df_indicators,\n",
    "    bucket = bucket_name,\n",
    "    keys = keys,\n",
    "    ext = \"csv\"\n",
    ")"
   ]
  },
  {
   "cell_type": "markdown",
   "id": "8c5b967d",
   "metadata": {},
   "source": [
    "### Store data to share among notebooks"
   ]
  },
  {
   "cell_type": "code",
   "execution_count": 64,
   "id": "f1936c15",
   "metadata": {},
   "outputs": [
    {
     "name": "stdout",
     "output_type": "stream",
     "text": [
      "Stored 'key_path_meta' (str)\n",
      "Stored 'key_path_indicators' (str)\n"
     ]
    }
   ],
   "source": [
    "%store key_path_meta\n",
    "%store key_path_indicators"
   ]
  },
  {
   "cell_type": "code",
   "execution_count": null,
   "id": "2d1dbbed",
   "metadata": {},
   "outputs": [],
   "source": []
  }
 ],
 "metadata": {
  "kernelspec": {
   "display_name": "Python 3",
   "language": "python",
   "name": "python3"
  },
  "language_info": {
   "codemirror_mode": {
    "name": "ipython",
    "version": 3
   },
   "file_extension": ".py",
   "mimetype": "text/x-python",
   "name": "python",
   "nbconvert_exporter": "python",
   "pygments_lexer": "ipython3",
   "version": "3.8.8"
  }
 },
 "nbformat": 4,
 "nbformat_minor": 5
}
